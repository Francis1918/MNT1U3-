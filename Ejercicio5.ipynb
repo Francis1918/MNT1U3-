{
 "cells": [
  {
   "metadata": {},
   "cell_type": "code",
   "outputs": [],
   "execution_count": null,
   "source": "",
   "id": "f2e34a2182d93b8"
  },
  {
   "metadata": {},
   "cell_type": "code",
   "outputs": [],
   "execution_count": null,
   "source": [
    "import numpy as np\n",
    "import matplotlib.pyplot as plt\n",
    "from scipy.interpolate import lagrange\n",
    "\n",
    "# Puntos dados\n",
    "x = np.array([1, 2, 3])\n",
    "y = np.array([1, 2, 2])\n",
    "\n",
    "# Calcular el polinomio de Lagrange manualmente\n",
    "def L0(x):\n",
    "    return ((x - 2) * (x - 3)) / ((1 - 2) * (1 - 3))\n",
    "\n",
    "def L1(x):\n",
    "    return ((x - 1) * (x - 3)) / ((2 - 1) * (2 - 3))\n",
    "\n",
    "def L2(x):\n",
    "    return ((x - 1) * (x - 2)) / ((3 - 1) * (3 - 2))\n",
    "\n",
    "def lagrange_polynomial(x):\n",
    "    return 1 * L0(x) + 2 * L1(x) + 2 * L2(x)\n",
    "\n",
    "# Calcular los coeficientes del polinomio\n",
    "poly = lagrange(x, y)\n",
    "print(\"Polinomio de Lagrange:\")\n",
    "print(f\"P(x) = {poly.c[0]}x² + {poly.c[1]}x + {poly.c[2]}\")\n",
    "\n",
    "# Crear puntos para graficar\n",
    "x_plot = np.linspace(0, 4, 100)\n",
    "y_plot = lagrange_polynomial(x_plot)\n",
    "\n",
    "# Graficar\n",
    "plt.figure(figsize=(10, 6))\n",
    "plt.plot(x_plot, y_plot, 'b-', label='Polinomio de Lagrange')\n",
    "plt.scatter(x, y, color='red', s=100, label='Puntos dados')\n",
    "plt.grid(True, alpha=0.3)\n",
    "plt.title('Interpolación de Lagrange para los puntos (1,1), (2,2), (3,2)')\n",
    "plt.xlabel('x')\n",
    "plt.ylabel('y')\n",
    "plt.legend()\n",
    "plt.axhline(y=0, color='gray', linestyle='-', alpha=0.3)\n",
    "plt.axvline(x=0, color='gray', linestyle='-', alpha=0.3)\n",
    "plt.tight_layout()\n",
    "plt.show()\n",
    "\n",
    "# Mostrar el cálculo paso a paso\n",
    "print(\"\\nCálculo paso a paso:\")\n",
    "print(\"L₀(x) = ((x-2)(x-3))/((1-2)(1-3)) = ((x-2)(x-3))/2\")\n",
    "print(\"L₁(x) = ((x-1)(x-3))/((2-1)(2-3)) = ((x-1)(x-3))/(-1)\")\n",
    "print(\"L₂(x) = ((x-1)(x-2))/((3-1)(3-2)) = ((x-1)(x-2))/2\")\n",
    "print(\"\\nP(x) = 1·L₀(x) + 2·L₁(x) + 2·L₂(x)\")\n",
    "print(\"P(x) = 1·((x-2)(x-3))/2 + 2·((x-1)(x-3))/(-1) + 2·((x-1)(x-2))/2\")\n",
    "\n",
    "# Verificar que el polinomio pasa por los puntos dados\n",
    "print(\"\\nVerificación:\")\n",
    "for i in range(len(x)):\n",
    "    print(f\"P({x[i]}) = {lagrange_polynomial(x[i])}, Valor esperado: {y[i]}\")"
   ],
   "id": "278533baa5a81759"
  }
 ],
 "metadata": {
  "kernelspec": {
   "display_name": "Python 3",
   "language": "python",
   "name": "python3"
  },
  "language_info": {
   "codemirror_mode": {
    "name": "ipython",
    "version": 3
   },
   "file_extension": ".py",
   "mimetype": "text/x-python",
   "name": "python",
   "nbconvert_exporter": "python",
   "pygments_lexer": "ipython3",
   "version": "3.11.9"
  }
 },
 "nbformat": 4,
 "nbformat_minor": 5
}
